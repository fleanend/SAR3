{
 "cells": [
  {
   "cell_type": "code",
   "execution_count": 1,
   "metadata": {},
   "outputs": [],
   "source": [
    "import pandas as pd\n",
    "import os\n",
    "import openai\n",
    "import json\n",
    "import codecs\n",
    "from sklearn.model_selection import StratifiedShuffleSplit\n",
    "openai.api_key = \"sk-W2v63UWK3U2J1CzRVFoAVhwIZkQd7mS4fqfrvd9E\""
   ]
  },
  {
   "cell_type": "code",
   "execution_count": 2,
   "metadata": {},
   "outputs": [],
   "source": [
    "tot_file = 'data/raw/text_extraction.json'\n",
    "targets = 'data/raw/target_values.json'\n",
    "with open(tot_file) as f:\n",
    "    data_tot = json.load(f)\n",
    "    \n",
    "with open(targets) as f:\n",
    "    data_target = json.load(f)\n",
    "    \n",
    "clean_data_tot = {}\n",
    "for el in data_tot:\n",
    "    clean_data_tot[el['complete_filename']] = el"
   ]
  },
  {
   "cell_type": "code",
   "execution_count": 6,
   "metadata": {},
   "outputs": [
    {
     "data": {
      "text/html": [
       "<div>\n",
       "<style scoped>\n",
       "    .dataframe tbody tr th:only-of-type {\n",
       "        vertical-align: middle;\n",
       "    }\n",
       "\n",
       "    .dataframe tbody tr th {\n",
       "        vertical-align: top;\n",
       "    }\n",
       "\n",
       "    .dataframe thead th {\n",
       "        text-align: right;\n",
       "    }\n",
       "</style>\n",
       "<table border=\"1\" class=\"dataframe\">\n",
       "  <thead>\n",
       "    <tr style=\"text-align: right;\">\n",
       "      <th></th>\n",
       "      <th>file_name</th>\n",
       "      <th>cause</th>\n",
       "      <th>keywords</th>\n",
       "      <th>text</th>\n",
       "    </tr>\n",
       "  </thead>\n",
       "  <tbody>\n",
       "    <tr>\n",
       "      <th>0</th>\n",
       "      <td>0901dbf5901f8d4f_1_2016000033828800.PDF</td>\n",
       "      <td>vento</td>\n",
       "      <td>temporale</td>\n",
       "      <td>PR Servizi Assicurativi srl   24128 BERGAMO Œ ...</td>\n",
       "    </tr>\n",
       "    <tr>\n",
       "      <th>1</th>\n",
       "      <td>0901dbf5953381cf_3_2018000011862400.PDF</td>\n",
       "      <td>vento</td>\n",
       "      <td>pioggia;grandine;evento atmosferico;fortunale</td>\n",
       "      <td>ˇ ˆ      ˇ        ˇ ˆ     ˆ+...</td>\n",
       "    </tr>\n",
       "    <tr>\n",
       "      <th>2</th>\n",
       "      <td>0901dbf59743d16a_3_2019000011916400.PDF</td>\n",
       "      <td>temporale</td>\n",
       "      <td>scariche elettriche</td>\n",
       "      <td>ˇˆˆˆˆ ˆˆˆ+ˆˆ-ˆˆ/ˆˆ+ˆˆˇˇˆ ˆˆ0ˆ 12ˆ0ˆˆ32ˆ432ˆ32ˆ...</td>\n",
       "    </tr>\n",
       "    <tr>\n",
       "      <th>3</th>\n",
       "      <td>0901dbf59b271fd7_1_2020000064464100.PDF</td>\n",
       "      <td>temporale</td>\n",
       "      <td>evento atmosferico</td>\n",
       "      <td>17468-2020/DOMilano22/12/2020CompagniaPzzaArma...</td>\n",
       "    </tr>\n",
       "    <tr>\n",
       "      <th>4</th>\n",
       "      <td>0901dbf59209a167_3_2017000010254900.PDF</td>\n",
       "      <td>grandine</td>\n",
       "      <td>evento atmosferico</td>\n",
       "      <td>ˇˇˆˆˆˆˆˆˆˆ    ˆˆ++--//ˇˆˆˆ ˇˆˆ+-+-  0/0ˆ112+2-...</td>\n",
       "    </tr>\n",
       "  </tbody>\n",
       "</table>\n",
       "</div>"
      ],
      "text/plain": [
       "                                 file_name      cause  \\\n",
       "0  0901dbf5901f8d4f_1_2016000033828800.PDF      vento   \n",
       "1  0901dbf5953381cf_3_2018000011862400.PDF      vento   \n",
       "2  0901dbf59743d16a_3_2019000011916400.PDF  temporale   \n",
       "3  0901dbf59b271fd7_1_2020000064464100.PDF  temporale   \n",
       "4  0901dbf59209a167_3_2017000010254900.PDF   grandine   \n",
       "\n",
       "                                        keywords  \\\n",
       "0                                      temporale   \n",
       "1  pioggia;grandine;evento atmosferico;fortunale   \n",
       "2                            scariche elettriche   \n",
       "3                             evento atmosferico   \n",
       "4                             evento atmosferico   \n",
       "\n",
       "                                                text  \n",
       "0  PR Servizi Assicurativi srl   24128 BERGAMO Œ ...  \n",
       "1                    ˇ ˆ      ˇ        ˇ ˆ     ˆ+...  \n",
       "2  ˇˆˆˆˆ ˆˆˆ+ˆˆ-ˆˆ/ˆˆ+ˆˆˇˇˆ ˆˆ0ˆ 12ˆ0ˆˆ32ˆ432ˆ32ˆ...  \n",
       "3  17468-2020/DOMilano22/12/2020CompagniaPzzaArma...  \n",
       "4  ˇˇˆˆˆˆˆˆˆˆ    ˆˆ++--//ˇˆˆˆ ˇˆˆ+-+-  0/0ˆ112+2-...  "
      ]
     },
     "execution_count": 6,
     "metadata": {},
     "output_type": "execute_result"
    }
   ],
   "source": [
    "def create_df(data_tot, data_target):\n",
    "    names, cause, keywords, texts = [], [], [], []\n",
    "    for file_name in data_target:\n",
    "        names.append(file_name)\n",
    "        els = data_target[file_name]\n",
    "        cause.append(els[0][0])\n",
    "        keywords.append(';'.join(els[1]))\n",
    "        texts.append(clean_data_tot[file_name]['text'])\n",
    "    train_df = pd.DataFrame({'file_name':names, 'cause':cause, 'keywords':keywords, 'text':texts})\n",
    "    \n",
    "    names, texts = [], []\n",
    "    for file_name in data_tot:\n",
    "        if file_name not in data_target:\n",
    "            names.append(file_name)\n",
    "            texts.append(clean_data_tot[file_name]['text'])\n",
    "    test_df = pd.DataFrame({'file_name':names, 'text':texts})\n",
    "    return train_df, test_df\n",
    "\n",
    "train_df, test_df = create_df(clean_data_tot, data_target)\n",
    "train_df.head()"
   ]
  },
  {
   "cell_type": "code",
   "execution_count": 7,
   "metadata": {},
   "outputs": [
    {
     "data": {
      "text/html": [
       "<div>\n",
       "<style scoped>\n",
       "    .dataframe tbody tr th:only-of-type {\n",
       "        vertical-align: middle;\n",
       "    }\n",
       "\n",
       "    .dataframe tbody tr th {\n",
       "        vertical-align: top;\n",
       "    }\n",
       "\n",
       "    .dataframe thead th {\n",
       "        text-align: right;\n",
       "    }\n",
       "</style>\n",
       "<table border=\"1\" class=\"dataframe\">\n",
       "  <thead>\n",
       "    <tr style=\"text-align: right;\">\n",
       "      <th></th>\n",
       "      <th>file_name</th>\n",
       "      <th>text</th>\n",
       "    </tr>\n",
       "  </thead>\n",
       "  <tbody>\n",
       "    <tr>\n",
       "      <th>0</th>\n",
       "      <td>0901dbf58e3b1554_3_2016000000964100.PDF</td>\n",
       "      <td>...</td>\n",
       "    </tr>\n",
       "    <tr>\n",
       "      <th>1</th>\n",
       "      <td>0901dbf58e5ef1f8_3_2016000002199700.PDF</td>\n",
       "      <td>Compagnia assicurativaITALIANA ASSICURAZIONICe...</td>\n",
       "    </tr>\n",
       "    <tr>\n",
       "      <th>2</th>\n",
       "      <td>0901dbf58e607d02_1_2016000006186200.PDF</td>\n",
       "      <td>Studio RUSSO  SrlPerizie - Consulenza e Tecnic...</td>\n",
       "    </tr>\n",
       "    <tr>\n",
       "      <th>3</th>\n",
       "      <td>0901dbf58e63ef8d_3_2016000001266300.PDF</td>\n",
       "      <td>L A SPE Z IA se d e lega le P Iva 01 114 56...</td>\n",
       "    </tr>\n",
       "    <tr>\n",
       "      <th>4</th>\n",
       "      <td>0901dbf58e65ef7f_3_2016000002269000.PDF</td>\n",
       "      <td>SpettleNostro riferimentoSinistro nAssicuratoA...</td>\n",
       "    </tr>\n",
       "  </tbody>\n",
       "</table>\n",
       "</div>"
      ],
      "text/plain": [
       "                                 file_name  \\\n",
       "0  0901dbf58e3b1554_3_2016000000964100.PDF   \n",
       "1  0901dbf58e5ef1f8_3_2016000002199700.PDF   \n",
       "2  0901dbf58e607d02_1_2016000006186200.PDF   \n",
       "3  0901dbf58e63ef8d_3_2016000001266300.PDF   \n",
       "4  0901dbf58e65ef7f_3_2016000002269000.PDF   \n",
       "\n",
       "                                                text  \n",
       "0                                                ...  \n",
       "1  Compagnia assicurativaITALIANA ASSICURAZIONICe...  \n",
       "2  Studio RUSSO  SrlPerizie - Consulenza e Tecnic...  \n",
       "3     L A SPE Z IA se d e lega le P Iva 01 114 56...  \n",
       "4  SpettleNostro riferimentoSinistro nAssicuratoA...  "
      ]
     },
     "execution_count": 7,
     "metadata": {},
     "output_type": "execute_result"
    }
   ],
   "source": [
    "test_df.head()"
   ]
  },
  {
   "cell_type": "code",
   "execution_count": 8,
   "metadata": {},
   "outputs": [],
   "source": [
    "id_columns = ['file_name']\n",
    "input_columns = ['text']\n",
    "label_columns = ['keywords','cause']\n",
    "def df_to_json(df):\n",
    "    output_list = []\n",
    "    values = df[id_columns+input_columns+label_columns].values\n",
    "    for value in values:\n",
    "        output_dict = {\"prompt\":\"\",\"completion\":\"\"}\n",
    "        c = 0\n",
    "        for col in id_columns:\n",
    "            output_dict[\"prompt\"] += col + ': ' +str(value[c])+' # '\n",
    "            c+=1\n",
    "        for col in input_columns:\n",
    "            output_dict[\"prompt\"] += col + ': ' +str(value[c])+' # '\n",
    "            c+=1\n",
    "        for col in label_columns:\n",
    "            output_dict[\"completion\"] += col + ': ' +str(value[c])+' # '\n",
    "            c+=1\n",
    "        output_dict[\"completion\"] = output_dict[\"completion\"][:-3]+ ' ###'\n",
    "        output_list.append(output_dict)\n",
    "    return output_list\n",
    "\n",
    "with open('data/processed/file.jsonl', 'w', encoding='UTF-8') as f:\n",
    "    for el in df_to_json(train_df):\n",
    "        f.write(json.dumps(el)+'\\n')"
   ]
  },
  {
   "cell_type": "code",
   "execution_count": 37,
   "metadata": {},
   "outputs": [
    {
     "data": {
      "text/plain": [
       "<File file id=file-dfUO6kOUudUU2xar7cUhWPJ7 at 0x1fcad08fd68> JSON: {\n",
       "  \"bytes\": 481752,\n",
       "  \"created_at\": 1653471972,\n",
       "  \"filename\": \"file.jsonl\",\n",
       "  \"id\": \"file-dfUO6kOUudUU2xar7cUhWPJ7\",\n",
       "  \"object\": \"file\",\n",
       "  \"purpose\": \"fine-tune\",\n",
       "  \"status\": \"uploaded\",\n",
       "  \"status_details\": null\n",
       "}"
      ]
     },
     "execution_count": 37,
     "metadata": {},
     "output_type": "execute_result"
    }
   ],
   "source": [
    "openai.File.create(\n",
    "  file=open(\"data/processed/file.jsonl\"),\n",
    "  purpose='fine-tune'\n",
    ")"
   ]
  },
  {
   "cell_type": "code",
   "execution_count": 38,
   "metadata": {},
   "outputs": [
    {
     "data": {
      "text/plain": [
       "<FineTune fine-tune id=ft-2MI16U2A1xK95O7aHDSxW9rQ at 0x1fcadb0a8e8> JSON: {\n",
       "  \"created_at\": 1653471983,\n",
       "  \"events\": [\n",
       "    {\n",
       "      \"created_at\": 1653471983,\n",
       "      \"level\": \"info\",\n",
       "      \"message\": \"Created fine-tune: ft-2MI16U2A1xK95O7aHDSxW9rQ\",\n",
       "      \"object\": \"fine-tune-event\"\n",
       "    }\n",
       "  ],\n",
       "  \"fine_tuned_model\": null,\n",
       "  \"hyperparams\": {\n",
       "    \"batch_size\": null,\n",
       "    \"learning_rate_multiplier\": null,\n",
       "    \"n_epochs\": 4,\n",
       "    \"prompt_loss_weight\": 0.1\n",
       "  },\n",
       "  \"id\": \"ft-2MI16U2A1xK95O7aHDSxW9rQ\",\n",
       "  \"model\": \"curie\",\n",
       "  \"object\": \"fine-tune\",\n",
       "  \"organization_id\": \"org-sAS7XXyTNjHCesZhGqONi6b9\",\n",
       "  \"result_files\": [],\n",
       "  \"status\": \"pending\",\n",
       "  \"training_files\": [\n",
       "    {\n",
       "      \"bytes\": 481752,\n",
       "      \"created_at\": 1653471972,\n",
       "      \"filename\": \"file.jsonl\",\n",
       "      \"id\": \"file-dfUO6kOUudUU2xar7cUhWPJ7\",\n",
       "      \"object\": \"file\",\n",
       "      \"purpose\": \"fine-tune\",\n",
       "      \"status\": \"processed\",\n",
       "      \"status_details\": null\n",
       "    }\n",
       "  ],\n",
       "  \"updated_at\": 1653471983,\n",
       "  \"validation_files\": []\n",
       "}"
      ]
     },
     "execution_count": 38,
     "metadata": {},
     "output_type": "execute_result"
    }
   ],
   "source": [
    "openai.FineTune.create(training_file=\"file-dfUO6kOUudUU2xar7cUhWPJ7\")"
   ]
  },
  {
   "cell_type": "code",
   "execution_count": 40,
   "metadata": {
    "collapsed": true,
    "jupyter": {
     "outputs_hidden": true
    }
   },
   "outputs": [
    {
     "data": {
      "text/plain": [
       "<FineTune fine-tune id=ft-2MI16U2A1xK95O7aHDSxW9rQ at 0x1fcab4c3c48> JSON: {\n",
       "  \"created_at\": 1653471983,\n",
       "  \"events\": [\n",
       "    {\n",
       "      \"created_at\": 1653471983,\n",
       "      \"level\": \"info\",\n",
       "      \"message\": \"Created fine-tune: ft-2MI16U2A1xK95O7aHDSxW9rQ\",\n",
       "      \"object\": \"fine-tune-event\"\n",
       "    },\n",
       "    {\n",
       "      \"created_at\": 1653472000,\n",
       "      \"level\": \"info\",\n",
       "      \"message\": \"Fine-tune costs $2.50\",\n",
       "      \"object\": \"fine-tune-event\"\n",
       "    },\n",
       "    {\n",
       "      \"created_at\": 1653472000,\n",
       "      \"level\": \"info\",\n",
       "      \"message\": \"Fine-tune enqueued. Queue number: 0\",\n",
       "      \"object\": \"fine-tune-event\"\n",
       "    },\n",
       "    {\n",
       "      \"created_at\": 1653472002,\n",
       "      \"level\": \"info\",\n",
       "      \"message\": \"Fine-tune started\",\n",
       "      \"object\": \"fine-tune-event\"\n",
       "    },\n",
       "    {\n",
       "      \"created_at\": 1653472096,\n",
       "      \"level\": \"info\",\n",
       "      \"message\": \"Completed epoch 1/4\",\n",
       "      \"object\": \"fine-tune-event\"\n",
       "    },\n",
       "    {\n",
       "      \"created_at\": 1653472142,\n",
       "      \"level\": \"info\",\n",
       "      \"message\": \"Completed epoch 2/4\",\n",
       "      \"object\": \"fine-tune-event\"\n",
       "    },\n",
       "    {\n",
       "      \"created_at\": 1653472187,\n",
       "      \"level\": \"info\",\n",
       "      \"message\": \"Completed epoch 3/4\",\n",
       "      \"object\": \"fine-tune-event\"\n",
       "    },\n",
       "    {\n",
       "      \"created_at\": 1653472233,\n",
       "      \"level\": \"info\",\n",
       "      \"message\": \"Completed epoch 4/4\",\n",
       "      \"object\": \"fine-tune-event\"\n",
       "    },\n",
       "    {\n",
       "      \"created_at\": 1653472259,\n",
       "      \"level\": \"info\",\n",
       "      \"message\": \"Uploaded model: curie:ft-personal-2022-05-25-09-50-58\",\n",
       "      \"object\": \"fine-tune-event\"\n",
       "    },\n",
       "    {\n",
       "      \"created_at\": 1653472262,\n",
       "      \"level\": \"info\",\n",
       "      \"message\": \"Uploaded result file: file-VOCwHGyQo09WKns1Apiqdwfo\",\n",
       "      \"object\": \"fine-tune-event\"\n",
       "    },\n",
       "    {\n",
       "      \"created_at\": 1653472263,\n",
       "      \"level\": \"info\",\n",
       "      \"message\": \"Fine-tune succeeded\",\n",
       "      \"object\": \"fine-tune-event\"\n",
       "    }\n",
       "  ],\n",
       "  \"fine_tuned_model\": \"curie:ft-personal-2022-05-25-09-50-58\",\n",
       "  \"hyperparams\": {\n",
       "    \"batch_size\": 1,\n",
       "    \"learning_rate_multiplier\": 0.1,\n",
       "    \"n_epochs\": 4,\n",
       "    \"prompt_loss_weight\": 0.1\n",
       "  },\n",
       "  \"id\": \"ft-2MI16U2A1xK95O7aHDSxW9rQ\",\n",
       "  \"model\": \"curie\",\n",
       "  \"object\": \"fine-tune\",\n",
       "  \"organization_id\": \"org-sAS7XXyTNjHCesZhGqONi6b9\",\n",
       "  \"result_files\": [\n",
       "    {\n",
       "      \"bytes\": 24926,\n",
       "      \"created_at\": 1653472260,\n",
       "      \"filename\": \"compiled_results.csv\",\n",
       "      \"id\": \"file-VOCwHGyQo09WKns1Apiqdwfo\",\n",
       "      \"object\": \"file\",\n",
       "      \"purpose\": \"fine-tune-results\",\n",
       "      \"status\": \"processed\",\n",
       "      \"status_details\": null\n",
       "    }\n",
       "  ],\n",
       "  \"status\": \"succeeded\",\n",
       "  \"training_files\": [\n",
       "    {\n",
       "      \"bytes\": 481752,\n",
       "      \"created_at\": 1653471972,\n",
       "      \"filename\": \"file.jsonl\",\n",
       "      \"id\": \"file-dfUO6kOUudUU2xar7cUhWPJ7\",\n",
       "      \"object\": \"file\",\n",
       "      \"purpose\": \"fine-tune\",\n",
       "      \"status\": \"processed\",\n",
       "      \"status_details\": null\n",
       "    }\n",
       "  ],\n",
       "  \"updated_at\": 1653472263,\n",
       "  \"validation_files\": []\n",
       "}"
      ]
     },
     "execution_count": 40,
     "metadata": {},
     "output_type": "execute_result"
    }
   ],
   "source": [
    "openai.FineTune.retrieve(id=\"ft-2MI16U2A1xK95O7aHDSxW9rQ\")"
   ]
  },
  {
   "cell_type": "code",
   "execution_count": 6,
   "metadata": {},
   "outputs": [],
   "source": [
    "tdf = test_df\n",
    "tdf[label_columns] = ''\n",
    "inp = df_to_json(tdf.iloc[6:16])"
   ]
  },
  {
   "cell_type": "code",
   "execution_count": 8,
   "metadata": {},
   "outputs": [],
   "source": [
    "model = 'curie:ft-personal-2022-05-25-09-50-58'\n",
    "\n",
    "def predict(inp, model):\n",
    "    responses = []\n",
    "    for el in inp:\n",
    "        prompt = el['prompt'][:3890]\n",
    "        if not prompt.endswith(' #'):\n",
    "            prompt = prompt +' #'\n",
    "        res = openai.Completion.create(\n",
    "                      model=model,\n",
    "                      prompt=prompt,\n",
    "                      max_tokens=100\n",
    "                    )\n",
    "        text = res['choices'][0]['text'].split(' ###')[0]\n",
    "        responses.append(text)\n",
    "    return responses"
   ]
  },
  {
   "cell_type": "code",
   "execution_count": 9,
   "metadata": {},
   "outputs": [],
   "source": [
    "resps = predict(inp, model)"
   ]
  },
  {
   "cell_type": "code",
   "execution_count": 10,
   "metadata": {},
   "outputs": [
    {
     "data": {
      "text/plain": [
       "[' keywords: evento atmosferico # cause: vento',\n",
       " ' keywords: eventi atmosferici;sovratensione # cause: fulmine',\n",
       " ' keywords: tromba daria # cause: vento',\n",
       " ' keywords: evento atmosferico;fortunale;acqua piovano # cause: vento',\n",
       " ' keywords: tromba # cause: vento',\n",
       " ' keywords: evento atmosferico # cause: vento',\n",
       " ' keywords: eventi atmosferici;sovratensione # cause: fulmine',\n",
       " ' keywords: danno occasionato # cause: vento',\n",
       " ' keywords: sovra tensione # cause: fenomeno elettrico',\n",
       " ' keywords: vento # cause: grandine']"
      ]
     },
     "execution_count": 10,
     "metadata": {},
     "output_type": "execute_result"
    }
   ],
   "source": [
    "resps"
   ]
  },
  {
   "cell_type": "code",
   "execution_count": 11,
   "metadata": {},
   "outputs": [
    {
     "data": {
      "text/plain": [
       "[('file_name: 0901dbf58e82947f_1_2016000006841700.PDF',\n",
       "  ' keywords: evento atmosferico # cause: vento'),\n",
       " ('file_name: 0901dbf58e876ddb_1_2016000004718900.PDF',\n",
       "  ' keywords: eventi atmosferici;sovratensione # cause: fulmine'),\n",
       " ('file_name: 0901dbf58e8d5a61_3_2016000003897500.PDF',\n",
       "  ' keywords: tromba daria # cause: vento'),\n",
       " ('file_name: 0901dbf58e8fcc25_3_2016000002938200.PDF',\n",
       "  ' keywords: evento atmosferico;fortunale;acqua piovano # cause: vento'),\n",
       " ('file_name: 0901dbf58e8fd640_1_2016000006614000.PDF',\n",
       "  ' keywords: tromba # cause: vento'),\n",
       " ('file_name: 0901dbf58e905993_1_2016000010259000.PDF',\n",
       "  ' keywords: evento atmosferico # cause: vento'),\n",
       " ('file_name: 0901dbf58e9b372c_3_2016000002959700.PDF',\n",
       "  ' keywords: eventi atmosferici;sovratensione # cause: fulmine'),\n",
       " ('file_name: 0901dbf58e9bd60b_1_2016000010735000.PDF',\n",
       "  ' keywords: danno occasionato # cause: vento'),\n",
       " ('file_name: 0901dbf58e9faed7_1_2016000004788200.PDF',\n",
       "  ' keywords: sovra tensione # cause: fenomeno elettrico'),\n",
       " ('file_name: 0901dbf58ea0c004_1_2016000009109700.PDF',\n",
       "  ' keywords: vento # cause: grandine')]"
      ]
     },
     "execution_count": 11,
     "metadata": {},
     "output_type": "execute_result"
    }
   ],
   "source": [
    "list(zip(list(map(lambda x: x['prompt'].split(' #')[0],inp)), resps))"
   ]
  },
  {
   "cell_type": "code",
   "execution_count": null,
   "metadata": {},
   "outputs": [],
   "source": []
  }
 ],
 "metadata": {
  "kernelspec": {
   "display_name": "Python 3.7.4 ('base')",
   "language": "python",
   "name": "python3"
  },
  "language_info": {
   "codemirror_mode": {
    "name": "ipython",
    "version": 3
   },
   "file_extension": ".py",
   "mimetype": "text/x-python",
   "name": "python",
   "nbconvert_exporter": "python",
   "pygments_lexer": "ipython3",
   "version": "3.7.4"
  },
  "vscode": {
   "interpreter": {
    "hash": "ad2bdc8ecc057115af97d19610ffacc2b4e99fae6737bb82f5d7fb13d2f2c186"
   }
  }
 },
 "nbformat": 4,
 "nbformat_minor": 4
}
