{
 "cells": [
  {
   "cell_type": "code",
   "execution_count": 1,
   "metadata": {},
   "outputs": [
    {
     "name": "stderr",
     "output_type": "stream",
     "text": [
      "c:\\Users\\d103771\\Documents\\GitHub\\SAR3\\.venv-hey\\lib\\site-packages\\tqdm\\auto.py:22: TqdmWarning: IProgress not found. Please update jupyter and ipywidgets. See https://ipywidgets.readthedocs.io/en/stable/user_install.html\n",
      "  from .autonotebook import tqdm as notebook_tqdm\n",
      "OpenAI tiktoken module is not available for Python < 3.8,Linux ARM64 and AARCH64. Falling back to GPT2TokenizerFast.\n",
      "WARNING:haystack.nodes.answer_generator.openai:OpenAI tiktoken module is not available for Python < 3.8,Linux ARM64 and AARCH64. Falling back to GPT2TokenizerFast.\n",
      "Converting files: 100%|██████████| 1/1 [00:00<00:00, 43.86it/s]\n",
      "Preprocessing: 100%|██████████| 31/31 [00:00<00:00, 481.67docs/s]\n",
      "Writing Documents: 10000it [00:00, 40402.03it/s]         \n"
     ]
    },
    {
     "data": {
      "text/plain": [
       "{'documents': [<Document: {'content': 'Dove posso lavorare in modalità agile?', 'content_type': 'text', 'score': None, 'meta': {'answer': 'Ovunque tu voglia, compatibilmente con la tua sicurezza personale e quella dei dati e delle informazioni trattate. Non hai alcun obbligo di concordare o comunicare il luogo di lavoro con il tuo responsabile.', '_split_id': 0}, 'id_hash_keys': ['content'], 'embedding': None, 'id': '249f61604d04661cc72e1a6a2c48238f'}>,\n",
       "  <Document: {'content': 'Posso lavorare in modalità agile da un Paese estero?', 'content_type': 'text', 'score': None, 'meta': {'answer': 'sì è possibile, compatibilmente con la necessità di lavorare in presenza in alcune giornate.', '_split_id': 0}, 'id_hash_keys': ['content'], 'embedding': None, 'id': '7edf516046590783ab658300ef415a0d'}>,\n",
       "  <Document: {'content': 'Quanto dura la giornata di lavoro agile?', 'content_type': 'text', 'score': None, 'meta': {'answer': 'Tendenzialmente dura quanto una qualunque giornata di lavoro in coerenza con i contratti nazionali e aziendali vigenti. Non è necessariamente coincidente con quella prevista in presenza: restano valide le 37 ore settimanali stabilite dal CCNL ANIA.', '_split_id': 0}, 'id_hash_keys': ['content'], 'embedding': None, 'id': 'c47c9d67614c2b37a4cf41a02c23106e'}>,\n",
       "  <Document: {'content': 'Posso iniziare a lavorare alle 10 o finire di lavorare alle 16?', 'content_type': 'text', 'score': None, 'meta': {'answer': 'sì, compatibilmente con l’organizzazione del lavoro, puoi scegliere liberamente come distribuire le ore di lavoro tra le 07.00 e le 19.00.', '_split_id': 0}, 'id_hash_keys': ['content'], 'embedding': None, 'id': 'd6bbf418bcd4f92b769849334e03df1f'}>,\n",
       "  <Document: {'content': 'Posso andare ad una visita medica quando lavoro in modalità agile?', 'content_type': 'text', 'score': None, 'meta': {'answer': 'Certo, basta comunicarlo al responsabile e giustificare l’assenza. Ovviamente il tempo impiegato per la visita non va recuperato.', '_split_id': 0}, 'id_hash_keys': ['content'], 'embedding': None, 'id': 'b59139e6de0576ddd17ebfd05a94d884'}>,\n",
       "  <Document: {'content': 'Posso fare lavoro straordinario in modalità agile?', 'content_type': 'text', 'score': None, 'meta': {'answer': 'Puoi lavorare oltre il tuo orario ma non è prevista alcuna maggior retribuzione per quel tempo.', '_split_id': 0}, 'id_hash_keys': ['content'], 'embedding': None, 'id': '2cba27c1b186eb640eb603c786b4b51c'}>,\n",
       "  <Document: {'content': 'Posso lavorare in modalità agile di lunedì o di venerdì?', 'content_type': 'text', 'score': None, 'meta': {'answer': 'Assolutamente sì.', '_split_id': 0}, 'id_hash_keys': ['content'], 'embedding': None, 'id': 'b0311afc6c1295aa8301ea6b8e6a6c3'}>,\n",
       "  <Document: {'content': 'Posso lavorare in modalità agile prima o dopo una giornata di ferie?', 'content_type': 'text', 'score': None, 'meta': {'answer': 'Assolutamente sì.', '_split_id': 0}, 'id_hash_keys': ['content'], 'embedding': None, 'id': '1d20e54a4954773fdd999ed394b5be91'}>,\n",
       "  <Document: {'content': 'È mio diritto scegliere liberamente le giornate di lavoro agile?', 'content_type': 'text', 'score': None, 'meta': {'answer': 'sì, lo è ma occorre concordarle con il responsabile, che coordina le attività dell’ufficio.', '_split_id': 0}, 'id_hash_keys': ['content'], 'embedding': None, 'id': '9fdf622bedc32c2a7afc0d5914373475'}>,\n",
       "  <Document: {'content': 'Posso prendere due ore di permesso quando lavoro in modalità agile?', 'content_type': 'text', 'score': None, 'meta': {'answer': 'È possibile fruire dei permessi retribuiti previsti dai contratti e di ferie a ore purché per un tempo pari alla metà della giornata lavorativa standard, da utilizzare di norma al mattino o al pomeriggio.', '_split_id': 0}, 'id_hash_keys': ['content'], 'embedding': None, 'id': 'f253344cc3d7e0f047b5f50f47ea9c6e'}>,\n",
       "  <Document: {'content': 'Posso lavorare mezza giornata in presenza e mezza giornata in remoto?', 'content_type': 'text', 'score': None, 'meta': {'answer': 'Attualmente no. L’accordo vigente prevedete che questa possibilità sia discussa dalla Direzione e dai sindacati entro il giugno del 2023.', '_split_id': 0}, 'id_hash_keys': ['content'], 'embedding': None, 'id': '5e53e88c6723d6fa31e5f49b5dbcc6a0'}>,\n",
       "  <Document: {'content': 'Il mio responsabile mi può chiedere di fare una cosa alle 18?', 'content_type': 'text', 'score': None, 'meta': {'answer': 'sì, può chiedertelo fino alle 19 ma tu non sei obbligato a farla se la tua giornata di lavoro è terminata.', '_split_id': 0}, 'id_hash_keys': ['content'], 'embedding': None, 'id': '6516cf86e70539e73de67c419e97c1a7'}>,\n",
       "  <Document: {'content': 'Il mio responsabile può mandarmi delle comunicazioni dopo le 19 o prima delle 7.00?', 'content_type': 'text', 'score': None, 'meta': {'answer': 'No è esplicitamente vietato.', '_split_id': 0}, 'id_hash_keys': ['content'], 'embedding': None, 'id': 'd4dc36c736232bf7a8b8bb982f65d7d4'}>,\n",
       "  <Document: {'content': 'In caso di infortunio avvenuto durante l’orario di lavoro agile, in pronto soccorso dobbiamo far aprire le pratiche INAIL al fine del corretto riconoscimento dell’infortunio “professionale” per la nostra polizza o non serve?', 'content_type': 'text', 'score': None, 'meta': {'answer': 'L’infortunio avvenuto in occasione lavorativa deve essere denunciato al datore di lavoro, con idonea documentazione medica tramite pronto soccorso medico competente e/o medico di base, la stessa denuncia va presentata per l’apertura del sinistro ai fini della ns. polizza infortuni. La liquidazione dello stesso, indipendentemente dalle regole adottate dall’INAIL, verrà valutata secondo le regole previste dal contratto.', '_split_id': 0}, 'id_hash_keys': ['content'], 'embedding': None, 'id': 'deb6746f5b862f0cf428992325853637'}>,\n",
       "  <Document: {'content': 'Se il mese prima faccio 9 giorni ed il successivo faccio i 12 giorni normali, il credito\" di tre giorni lo perdo o lo conservo per il mese successivo?\"', 'content_type': 'text', 'score': None, 'meta': {'answer': 'Il mese successivo avrai 15 giorni di lavoro agile.', '_split_id': 0}, 'id_hash_keys': ['content'], 'embedding': None, 'id': 'b4062adec92a797048d2db6190d9d5da'}>,\n",
       "  <Document: {'content': 'Richiedere a tutta la propria struttura di trovarsi in ufficio ogni 15 gg è un obbligo o una facoltà?', 'content_type': 'text', 'score': None, 'meta': {'answer': 'È una facoltà del responsabile, troverà lui/lei la modalità per il distanziamento, in coerenza con la capienza massima del 50%.', '_split_id': 0}, 'id_hash_keys': ['content'], 'embedding': None, 'id': '12750f6cb5e8a4f28e5708dd94fd65d3'}>,\n",
       "  <Document: {'content': 'Nel caso avessi bisogno di prendere due ore di permesso per problemi personali (quindi hr ex festività o permesso con trattenuta) e non avessi modo di recuperarlo nelle 12 ore giornaliere, posso farlo?', 'content_type': 'text', 'score': None, 'meta': {'answer': '“I permessi con trattenuta” non esistono. Se sì intende una assenza di due ore nell’ambito della flessibilità oraria, l’assenza (nell’ambito lavorativo della modalità a distanza) non deve essere né recuperata né giustificata. ', '_split_id': 0}, 'id_hash_keys': ['content'], 'embedding': None, 'id': 'dc09f754c1d75c40432f7dd98fdc70ce'}>,\n",
       "  <Document: {'content': 'La prestazione è disciplinata da un accordo scritto tra azienda e dipendente, il cui modello è riportato nell’allegato A) del presente documento. La durata della stessa è concordata con il proprio responsabile – tenute presenti le esigenze organizzative – per un periodo non eccedente i 12 mesi, rinnovabile a scadenza. Per proprio responsabile sì fa riferimento ai dirigenti di settore o al Funzionario diretto?', 'content_type': 'text', 'score': None, 'meta': {'answer': 'Al responsabile diretto.', '_split_id': 0}, 'id_hash_keys': ['content'], 'embedding': None, 'id': '20bc670b76845ba680b4d3581f09708f'}>,\n",
       "  <Document: {'content': 'Potete esplicitare cosa significa che è soggetta a preventiva pianificazione con il proprio responsabile', 'content_type': 'text', 'score': None, 'meta': {'answer': 'È facoltà del lavoratore chiedere sino a 12 gg. di lavoro a distanza, e tale disponibilità verrà concordata con il responsabile, mediando tra le esigenze personali del lavoratore/lavoratrice e l’organizzazione del lavoro. Verrà data priorità alle richieste formulate dalle lavoratrici nei tre anni successivi alla conclusione del periodo di congedo di maternità ovvero dai lavoratori con figli in condizioni di disabilità, entrambi i casi come definiti all’art. 1, comma 486, della legge di bilancio 2019 ed eventuali successive modifiche e alle/ai Lavoratrici/Lavoratori definiti fragili dalla normativa vigente ed eventuali future modifiche ed integrazioni. Tale norma sarà tenuta in considerazione anche con riferimento a quanto previsto dal punto C) del presente accordo. ', '_split_id': 0}, 'id_hash_keys': ['content'], 'embedding': None, 'id': '72389c74b09313eb413e74315a5f4430'}>,\n",
       "  <Document: {'content': 'Rimane valido il vincolo che il responsabile può richiedere la presenza in ufficio e sì hanno 48 ore di tempo per il rientro? Come sì concilia con la libertà di lavoro al di fuori della propria sede/città?', 'content_type': 'text', 'score': None, 'meta': {'answer': 'Non è previsto un preavviso, salvo alcune realtà specifiche presenti in Banca Reale e Blue Assistance. La libertà nella scelta del luogo in cui svolgere l’attività di smartworking è perfettamente garantita.', '_split_id': 0}, 'id_hash_keys': ['content'], 'embedding': None, 'id': '39f659c41344e77c48f72264618799bf'}>,\n",
       "  <Document: {'content': 'Una giornata di formazione fuori sede è considerata nel conteggio dei giorni in presenza?', 'content_type': 'text', 'score': None, 'meta': {'answer': 'sì.', '_split_id': 0}, 'id_hash_keys': ['content'], 'embedding': None, 'id': '31afe6243ccc4f8d7a7180a8f4c19024'}>,\n",
       "  <Document: {'content': \"Nel caso di lavoro part-time (nel mio caso 3 giorni alla settimana per un totale di 24 ore) come vengono rideterminati i giorni di lavoro agile e rientri ?? in proporzione alle ore settimanali 24/37 ?? l'arrotondamento sul risultato come sì deve applicare?\", 'content_type': 'text', 'score': None, 'meta': {'answer': 'Per quanto concerne il lavoro agile viene riparametrato come da te indicato, mentre per quanto riguarda i rientri non sì applica nessuna riparametrazione. Nell’accordo sul lavoro agile non è specificato come gestire gli arrotondamenti.', '_split_id': 0}, 'id_hash_keys': ['content'], 'embedding': None, 'id': '81646f4862c8476ef0acea12a4e18cb4'}>,\n",
       "  <Document: {'content': 'Come viene gestita la facoltativa parentale giornata intera e mezza giornata?', 'content_type': 'text', 'score': None, 'meta': {'answer': 'Segue la stessa logica delle ferie e/o permessi retribuiti.', '_split_id': 0}, 'id_hash_keys': ['content'], 'embedding': None, 'id': '9df6045ad95511d641e255e6325ff81b'}>,\n",
       "  <Document: {'content': 'Buongiorno, le giornate di ferie verranno conteggiate come giornate in presenza?', 'content_type': 'text', 'score': None, 'meta': {'answer': 'sì', '_split_id': 0}, 'id_hash_keys': ['content'], 'embedding': None, 'id': 'bee9daa73dfc6f84a7515415a74461e9'}>,\n",
       "  <Document: {'content': 'Il principio di considerare i giorni di ferie, al pari di presenza, nel cosi detto “periodo di Prova”, cioè dal 10 gennaio al 01/04/2022, vale anche dopo questa data?', 'content_type': 'text', 'score': None, 'meta': {'answer': 'Le giornate di ferie sono in ogni caso giornate in presenza.', '_split_id': 0}, 'id_hash_keys': ['content'], 'embedding': None, 'id': '1fc0becb627bb53388e0937323ebf674'}>,\n",
       "  <Document: {'content': 'Come funziona per gli interinali? sì applicano le stesse regole?', 'content_type': 'text', 'score': None, 'meta': {'answer': 'Questo accordo vale per i dipendenti. È facoltà dell’Azienda di estendere l’applicazione ai lavoratori interinali.', '_split_id': 0}, 'id_hash_keys': ['content'], 'embedding': None, 'id': 'dd7019d90e6703e66846b79919979363'}>,\n",
       "  <Document: {'content': 'Il nostro ufficio deve garantire il collegamento alla barra telefonica nella fascia oraria prestabilita, questo non ci da la possibilità di poter gestire la propria giornata lavorativa secondo la fascia oraria dello smart working, come sì può risolvere?', 'content_type': 'text', 'score': None, 'meta': {'answer': 'Vi sono delle limitazioni nell’utilizzo della flessibilità nel lavoro a distanza, legate alla tipologia del servizio prestato. Nel corso della trattativa abbiamo posto la problematica all’Azienda ma al momento non è ancora stata trovata una soluzione. ', '_split_id': 0}, 'id_hash_keys': ['content'], 'embedding': None, 'id': '966f1f720501a6e62c70448de2a01f1d'}>,\n",
       "  <Document: {'content': \"Vi chiedo di specificare del part time e delle buone prassi restano le 12 giornate giusto? e ogni giornata contiene l'orario specifico?\", 'content_type': 'text', 'score': None, 'meta': {'answer': 'sì', '_split_id': 0}, 'id_hash_keys': ['content'], 'embedding': None, 'id': '44bdd1dad11e08378d660c19fecf48e8'}>,\n",
       "  <Document: {'content': 'Dove trovo il modulo di adesione al lavoro agile?', 'content_type': 'text', 'score': None, 'meta': {'answer': 'Su Really.', '_split_id': 0}, 'id_hash_keys': ['content'], 'embedding': None, 'id': '22a9ac87583037fe3d53d863a5a29422'}>,\n",
       "  <Document: {'content': 'Come sarà gestita la procedura di adesione? Confronto col responsabile (che in pratica è solo una comunicazione della volontà di accedere all’orario ridotto su base volontaria) e successiva richiesta del part time tramite apposito modulo o mail?', 'content_type': 'text', 'score': None, 'meta': {'answer': 'Tramite modulo online su Really.', '_split_id': 0}, 'id_hash_keys': ['content'], 'embedding': None, 'id': 'fd5a89dd1ac0d4ee006031e47459e96'}>,\n",
       "  <Document: {'content': 'Quanti giorni in modalità agile posso lavorare mensilmente?', 'content_type': 'text', 'score': None, 'meta': {'answer': \"Puoi lavorare in agile il numero di giornate che hai chiesto nell'adesione, il numero massimo è 12 giorni.\", '_split_id': 0}, 'id_hash_keys': ['content'], 'embedding': None, 'id': 'b22680feae85a88e3857a83a1776fa34'}>],\n",
       " 'root_node': 'File',\n",
       " 'params': {},\n",
       " 'file_paths': ['data/raw/QA.csv'],\n",
       " 'node_id': 'DocumentStore'}"
      ]
     },
     "execution_count": 1,
     "metadata": {},
     "output_type": "execute_result"
    }
   ],
   "source": [
    "import os\n",
    "from haystack.document_stores import FAISSDocumentStore\n",
    "from haystack.pipelines.standard_pipelines import TextIndexingPipeline\n",
    "from haystack.nodes import CsvTextConverter\n",
    "\n",
    "doc_dir = \"data/raw\"\n",
    "\n",
    "document_store = FAISSDocumentStore(similarity=\"dot_product\")\n",
    "\n",
    "files_to_index = [doc_dir + \"/\" + f for f in os.listdir(doc_dir)]\n",
    "indexing_pipeline = TextIndexingPipeline(document_store)\n",
    "#indexing_pipeline.run_batch(file_paths=list(filter(lambda x: x.endswith('.txt'), files_to_index)))\n",
    "\n",
    "indexing_pipeline = TextIndexingPipeline(document_store, text_converter=CsvTextConverter())\n",
    "indexing_pipeline.run_batch(file_paths=list(filter(lambda x: x.endswith('.csv'), files_to_index)))"
   ]
  },
  {
   "cell_type": "code",
   "execution_count": 2,
   "metadata": {},
   "outputs": [
    {
     "name": "stderr",
     "output_type": "stream",
     "text": [
      "The tokenizer class you load from this checkpoint is not the same type as the class this function is called from. It may result in unexpected tokenization. \n",
      "The tokenizer class you load from this checkpoint is 'DPRQuestionEncoderTokenizer'. \n",
      "The class this function is called from is 'DPRContextEncoderTokenizerFast'.\n",
      "Documents Processed: 10000 docs [00:21, 468.10 docs/s]        \n"
     ]
    }
   ],
   "source": [
    "from haystack.nodes import DensePassageRetriever\n",
    "from haystack.nodes import FARMReader\n",
    "from haystack.pipelines import ExtractiveQAPipeline\n",
    "from haystack.utils import print_answers\n",
    "\n",
    "retriever = DensePassageRetriever(\n",
    "    document_store=document_store,\n",
    "    query_embedding_model=\"voidful/dpr-question_encoder-bert-base-multilingual\",\n",
    "    passage_embedding_model=\"voidful/dpr-ctx_encoder-bert-base-multilingual\"\n",
    ")\n",
    "\n",
    "document_store.update_embeddings(retriever)\n",
    "\n",
    "reader = FARMReader(\"anakin87/electra-italian-xxl-cased-squad-it\")\n",
    "\n",
    "pipe = ExtractiveQAPipeline(reader, retriever)"
   ]
  },
  {
   "cell_type": "code",
   "execution_count": 4,
   "metadata": {},
   "outputs": [
    {
     "name": "stderr",
     "output_type": "stream",
     "text": [
      "Inferencing Samples: 100%|██████████| 1/1 [00:06<00:00,  6.72s/ Batches]"
     ]
    },
    {
     "name": "stdout",
     "output_type": "stream",
     "text": [
      "\n",
      "Query: Posso lavorare dall'estero?\n",
      "Answers:\n",
      "[   {   'answer': 'mezza giornata in presenza e mezza giornata in remoto',\n",
      "        'context': 'Posso lavorare mezza giornata in presenza e mezza giornata '\n",
      "                   'in remoto?'},\n",
      "    {   'answer': '16',\n",
      "        'context': 'Posso iniziare a lavorare alle 10 o finire di lavorare '\n",
      "                   'alle 16?'},\n",
      "    {   'answer': 'Una giornata di formazione fuori sede',\n",
      "        'context': 'Una giornata di formazione fuori sede è considerata nel '\n",
      "                   'conteggio dei giorni in presenza?'},\n",
      "    {   'answer': 'in modalità agile',\n",
      "        'context': 'Posso lavorare in modalità agile da un Paese estero?'},\n",
      "    {   'answer': 'Confronto col responsabile (che in pratica è solo una '\n",
      "                  'comunicazione della volontà di accedere all’orario ridotto '\n",
      "                  'su base volontaria) e successiva richiesta del part time '\n",
      "                  'tramite apposito modulo o mail',\n",
      "        'context': 'Confronto col responsabile (che in pratica è solo una '\n",
      "                   'comunicazione della volontà di accedere all’orario ridotto '\n",
      "                   'su base volontaria) e successiva richiesta del part time '\n",
      "                   'tramite apposito modulo o mail'}]\n"
     ]
    },
    {
     "name": "stderr",
     "output_type": "stream",
     "text": [
      "\n"
     ]
    }
   ],
   "source": [
    "prediction = pipe.run(\n",
    "    query=\"Posso lavorare dall'estero?\",\n",
    "    params={\n",
    "        \"Retriever\": {\"top_k\": 10},\n",
    "        \"Reader\": {\"top_k\": 5}\n",
    "    }\n",
    ")\n",
    "\n",
    "print_answers(\n",
    "    prediction,\n",
    "    details=\"minimum\" ## Choose from `minimum`, `medium`, and `all`\n",
    ")"
   ]
  },
  {
   "cell_type": "code",
   "execution_count": 5,
   "metadata": {},
   "outputs": [
    {
     "data": {
      "text/plain": [
       "{'documents': [<Document: {'content': 'Posso iniziare a lavorare alle 10 o finire di lavorare alle 16?', 'content_type': 'text', 'score': 0.5089208070167367, 'meta': {'answer': 'sì, compatibilmente con l’organizzazione del lavoro, puoi scegliere liberamente come distribuire le ore di lavoro tra le 07.00 e le 19.00.', '_split_id': 0, 'vector_id': '25'}, 'id_hash_keys': ['content'], 'embedding': None, 'id': 'd6bbf418bcd4f92b769849334e03df1f'}>,\n",
       "  <Document: {'content': 'La prestazione è disciplinata da un accordo scritto tra azienda e dipendente, il cui modello è riportato nell’allegato A) del presente documento. La durata della stessa è concordata con il proprio responsabile – tenute presenti le esigenze organizzative – per un periodo non eccedente i 12 mesi, rinnovabile a scadenza. Per proprio responsabile sì fa riferimento ai dirigenti di settore o al Funzionario diretto?', 'content_type': 'text', 'score': 0.5073108129494602, 'meta': {'answer': 'Al responsabile diretto.', '_split_id': 0, 'vector_id': '3'}, 'id_hash_keys': ['content'], 'embedding': None, 'id': '20bc670b76845ba680b4d3581f09708f'}>,\n",
       "  <Document: {'content': \"Nel caso di lavoro part-time (nel mio caso 3 giorni alla settimana per un totale di 24 ore) come vengono rideterminati i giorni di lavoro agile e rientri ?? in proporzione alle ore settimanali 24/37 ?? l'arrotondamento sul risultato come sì deve applicare?\", 'content_type': 'text', 'score': 0.5064405681563439, 'meta': {'answer': 'Per quanto concerne il lavoro agile viene riparametrato come da te indicato, mentre per quanto riguarda i rientri non sì applica nessuna riparametrazione. Nell’accordo sul lavoro agile non è specificato come gestire gli arrotondamenti.', '_split_id': 0, 'vector_id': '14'}, 'id_hash_keys': ['content'], 'embedding': None, 'id': '81646f4862c8476ef0acea12a4e18cb4'}>,\n",
       "  <Document: {'content': 'Posso lavorare mezza giornata in presenza e mezza giornata in remoto?', 'content_type': 'text', 'score': 0.5061662384768872, 'meta': {'answer': 'Attualmente no. L’accordo vigente prevedete che questa possibilità sia discussa dalla Direzione e dai sindacati entro il giugno del 2023.', '_split_id': 0, 'vector_id': '10'}, 'id_hash_keys': ['content'], 'embedding': None, 'id': '5e53e88c6723d6fa31e5f49b5dbcc6a0'}>,\n",
       "  <Document: {'content': 'Posso lavorare in modalità agile da un Paese estero?', 'content_type': 'text', 'score': 0.5050770391442948, 'meta': {'answer': 'sì è possibile, compatibilmente con la necessità di lavorare in presenza in alcune giornate.', '_split_id': 0, 'vector_id': '13'}, 'id_hash_keys': ['content'], 'embedding': None, 'id': '7edf516046590783ab658300ef415a0d'}>],\n",
       " 'root_node': 'Query',\n",
       " 'params': {'Retriever': {'top_k': 5}},\n",
       " 'query': 'Posso lavorare dalla Francia?',\n",
       " 'node_id': 'Retriever'}"
      ]
     },
     "execution_count": 5,
     "metadata": {},
     "output_type": "execute_result"
    }
   ],
   "source": [
    "from haystack.pipelines import DocumentSearchPipeline\n",
    "pipeline = DocumentSearchPipeline(retriever)\n",
    "query = \"Posso lavorare dalla Francia?\"\n",
    "result = pipeline.run(query, params={\"Retriever\": {\"top_k\": 5}})\n",
    "result"
   ]
  },
  {
   "cell_type": "code",
   "execution_count": 13,
   "metadata": {},
   "outputs": [
    {
     "name": "stderr",
     "output_type": "stream",
     "text": [
      "Downloading (…)okenizer_config.json: 100%|██████████| 1.52k/1.52k [00:00<00:00, 98.3kB/s]\n",
      "Downloading (…)olve/main/vocab.json: 100%|██████████| 860k/860k [00:00<00:00, 1.67MB/s]\n",
      "Downloading (…)olve/main/merges.txt: 100%|██████████| 506k/506k [00:00<00:00, 997kB/s] \n",
      "Downloading (…)/main/tokenizer.json: 100%|██████████| 2.25M/2.25M [00:00<00:00, 2.77MB/s]\n",
      "Downloading (…)cial_tokens_map.json: 100%|██████████| 957/957 [00:00<00:00, 101kB/s]\n",
      "Downloading (…)lve/main/config.json: 100%|██████████| 1.03k/1.03k [00:00<00:00, 87.8kB/s]\n",
      "Downloading (…)\"pytorch_model.bin\";: 100%|██████████| 563M/563M [00:07<00:00, 71.5MB/s] \n"
     ]
    },
    {
     "ename": "Exception",
     "evalue": "Exception while running node 'Generator': \"Seq2SeqGenerator doesn't have input converter registered for efederici/bart-lfqa-it. Provide custom converter for efederici/bart-lfqa-it in Seq2SeqGenerator initialization\"\nEnable debug logging to see the data that was passed when the pipeline failed.",
     "output_type": "error",
     "traceback": [
      "\u001b[1;31m---------------------------------------------------------------------------\u001b[0m",
      "\u001b[1;31mKeyError\u001b[0m                                  Traceback (most recent call last)",
      "File \u001b[1;32mc:\\Users\\d103771\\Documents\\GitHub\\SAR3\\.venv-hey\\lib\\site-packages\\haystack\\pipelines\\base.py:530\u001b[0m, in \u001b[0;36mPipeline.run\u001b[1;34m(self, query, file_paths, labels, documents, meta, params, debug)\u001b[0m\n\u001b[0;32m    529\u001b[0m     logger\u001b[39m.\u001b[39mdebug(\u001b[39m\"\u001b[39m\u001b[39mRunning node \u001b[39m\u001b[39m'\u001b[39m\u001b[39m%s\u001b[39;00m\u001b[39m` with input: \u001b[39m\u001b[39m%s\u001b[39;00m\u001b[39m\"\u001b[39m, node_id, node_input)\n\u001b[1;32m--> 530\u001b[0m     node_output, stream_id \u001b[39m=\u001b[39m \u001b[39mself\u001b[39;49m\u001b[39m.\u001b[39;49m_run_node(node_id, node_input)\n\u001b[0;32m    531\u001b[0m \u001b[39mexcept\u001b[39;00m \u001b[39mException\u001b[39;00m \u001b[39mas\u001b[39;00m e:\n\u001b[0;32m    532\u001b[0m     \u001b[39m# The input might be a really large object with thousands of embeddings.\u001b[39;00m\n\u001b[0;32m    533\u001b[0m     \u001b[39m# If you really want to see it, raise the log level.\u001b[39;00m\n",
      "File \u001b[1;32mc:\\Users\\d103771\\Documents\\GitHub\\SAR3\\.venv-hey\\lib\\site-packages\\haystack\\pipelines\\base.py:457\u001b[0m, in \u001b[0;36mPipeline._run_node\u001b[1;34m(self, node_id, node_input)\u001b[0m\n\u001b[0;32m    456\u001b[0m \u001b[39mdef\u001b[39;00m \u001b[39m_run_node\u001b[39m(\u001b[39mself\u001b[39m, node_id: \u001b[39mstr\u001b[39m, node_input: Dict[\u001b[39mstr\u001b[39m, Any]) \u001b[39m-\u001b[39m\u001b[39m>\u001b[39m Tuple[Dict, \u001b[39mstr\u001b[39m]:\n\u001b[1;32m--> 457\u001b[0m     \u001b[39mreturn\u001b[39;00m \u001b[39mself\u001b[39m\u001b[39m.\u001b[39mgraph\u001b[39m.\u001b[39mnodes[node_id][\u001b[39m\"\u001b[39m\u001b[39mcomponent\u001b[39m\u001b[39m\"\u001b[39m]\u001b[39m.\u001b[39m_dispatch_run(\u001b[39m*\u001b[39m\u001b[39m*\u001b[39mnode_input)\n",
      "File \u001b[1;32mc:\\Users\\d103771\\Documents\\GitHub\\SAR3\\.venv-hey\\lib\\site-packages\\haystack\\nodes\\base.py:201\u001b[0m, in \u001b[0;36mBaseComponent._dispatch_run\u001b[1;34m(self, **kwargs)\u001b[0m\n\u001b[0;32m    197\u001b[0m \u001b[39m\u001b[39m\u001b[39m\"\"\"\u001b[39;00m\n\u001b[0;32m    198\u001b[0m \u001b[39mThe Pipelines call this method when run() is executed. This method in turn executes the _dispatch_run_general()\u001b[39;00m\n\u001b[0;32m    199\u001b[0m \u001b[39mmethod with the correct run method.\u001b[39;00m\n\u001b[0;32m    200\u001b[0m \u001b[39m\"\"\"\u001b[39;00m\n\u001b[1;32m--> 201\u001b[0m \u001b[39mreturn\u001b[39;00m \u001b[39mself\u001b[39m\u001b[39m.\u001b[39m_dispatch_run_general(\u001b[39mself\u001b[39m\u001b[39m.\u001b[39mrun, \u001b[39m*\u001b[39m\u001b[39m*\u001b[39mkwargs)\n",
      "File \u001b[1;32mc:\\Users\\d103771\\Documents\\GitHub\\SAR3\\.venv-hey\\lib\\site-packages\\haystack\\nodes\\base.py:245\u001b[0m, in \u001b[0;36mBaseComponent._dispatch_run_general\u001b[1;34m(self, run_method, **kwargs)\u001b[0m\n\u001b[0;32m    243\u001b[0m         run_inputs[key] \u001b[39m=\u001b[39m value\n\u001b[1;32m--> 245\u001b[0m output, stream \u001b[39m=\u001b[39m run_method(\u001b[39m*\u001b[39m\u001b[39m*\u001b[39mrun_inputs, \u001b[39m*\u001b[39m\u001b[39m*\u001b[39mrun_params)\n\u001b[0;32m    247\u001b[0m \u001b[39m# Collect debug information\u001b[39;00m\n",
      "File \u001b[1;32mc:\\Users\\d103771\\Documents\\GitHub\\SAR3\\.venv-hey\\lib\\site-packages\\haystack\\nodes\\answer_generator\\base.py:37\u001b[0m, in \u001b[0;36mBaseGenerator.run\u001b[1;34m(self, query, documents, top_k, labels, add_isolated_node_eval)\u001b[0m\n\u001b[0;32m     36\u001b[0m \u001b[39mif\u001b[39;00m documents:\n\u001b[1;32m---> 37\u001b[0m     results \u001b[39m=\u001b[39m \u001b[39mself\u001b[39;49m\u001b[39m.\u001b[39;49mpredict(query\u001b[39m=\u001b[39;49mquery, documents\u001b[39m=\u001b[39;49mdocuments, top_k\u001b[39m=\u001b[39;49mtop_k)\n\u001b[0;32m     38\u001b[0m \u001b[39melse\u001b[39;00m:\n",
      "File \u001b[1;32mc:\\Users\\d103771\\Documents\\GitHub\\SAR3\\.venv-hey\\lib\\site-packages\\haystack\\nodes\\answer_generator\\transformers.py:443\u001b[0m, in \u001b[0;36mSeq2SeqGenerator.predict\u001b[1;34m(self, query, documents, top_k)\u001b[0m\n\u001b[0;32m    442\u001b[0m \u001b[39mif\u001b[39;00m converter \u001b[39mis\u001b[39;00m \u001b[39mNone\u001b[39;00m:\n\u001b[1;32m--> 443\u001b[0m     \u001b[39mraise\u001b[39;00m \u001b[39mKeyError\u001b[39;00m(\n\u001b[0;32m    444\u001b[0m         \u001b[39mf\u001b[39m\u001b[39m\"\u001b[39m\u001b[39mSeq2SeqGenerator doesn\u001b[39m\u001b[39m'\u001b[39m\u001b[39mt have input converter registered for \u001b[39m\u001b[39m{\u001b[39;00m\u001b[39mself\u001b[39m\u001b[39m.\u001b[39mmodel_name_or_path\u001b[39m}\u001b[39;00m\u001b[39m. \u001b[39m\u001b[39m\"\u001b[39m\n\u001b[0;32m    445\u001b[0m         \u001b[39mf\u001b[39m\u001b[39m\"\u001b[39m\u001b[39mProvide custom converter for \u001b[39m\u001b[39m{\u001b[39;00m\u001b[39mself\u001b[39m\u001b[39m.\u001b[39mmodel_name_or_path\u001b[39m}\u001b[39;00m\u001b[39m in Seq2SeqGenerator initialization\u001b[39m\u001b[39m\"\u001b[39m\n\u001b[0;32m    446\u001b[0m     )\n\u001b[0;32m    448\u001b[0m \u001b[39mtry\u001b[39;00m:\n",
      "\u001b[1;31mKeyError\u001b[0m: \"Seq2SeqGenerator doesn't have input converter registered for efederici/bart-lfqa-it. Provide custom converter for efederici/bart-lfqa-it in Seq2SeqGenerator initialization\"",
      "\nThe above exception was the direct cause of the following exception:\n",
      "\u001b[1;31mException\u001b[0m                                 Traceback (most recent call last)",
      "Cell \u001b[1;32mIn[13], line 7\u001b[0m\n\u001b[0;32m      4\u001b[0m generator \u001b[38;5;241m=\u001b[39m Seq2SeqGenerator(model_name_or_path\u001b[38;5;241m=\u001b[39m\u001b[38;5;124m\"\u001b[39m\u001b[38;5;124mefederici/bart-lfqa-it\u001b[39m\u001b[38;5;124m\"\u001b[39m)\n\u001b[0;32m      5\u001b[0m pipe \u001b[38;5;241m=\u001b[39m GenerativeQAPipeline(generator, retriever)\n\u001b[1;32m----> 7\u001b[0m prediction \u001b[38;5;241m=\u001b[39m \u001b[43mpipe\u001b[49m\u001b[38;5;241;43m.\u001b[39;49m\u001b[43mrun\u001b[49m\u001b[43m(\u001b[49m\n\u001b[0;32m      8\u001b[0m \u001b[43m    \u001b[49m\u001b[43mquery\u001b[49m\u001b[38;5;241;43m=\u001b[39;49m\u001b[38;5;124;43m\"\u001b[39;49m\u001b[38;5;124;43mPosso lavorare dalla Francia?\u001b[39;49m\u001b[38;5;124;43m\"\u001b[39;49m\u001b[43m,\u001b[49m\n\u001b[0;32m      9\u001b[0m \u001b[43m    \u001b[49m\u001b[43mparams\u001b[49m\u001b[38;5;241;43m=\u001b[39;49m\u001b[43m{\u001b[49m\n\u001b[0;32m     10\u001b[0m \u001b[43m        \u001b[49m\u001b[38;5;124;43m\"\u001b[39;49m\u001b[38;5;124;43mRetriever\u001b[39;49m\u001b[38;5;124;43m\"\u001b[39;49m\u001b[43m:\u001b[49m\u001b[43m \u001b[49m\u001b[43m{\u001b[49m\u001b[38;5;124;43m\"\u001b[39;49m\u001b[38;5;124;43mtop_k\u001b[39;49m\u001b[38;5;124;43m\"\u001b[39;49m\u001b[43m:\u001b[49m\u001b[43m \u001b[49m\u001b[38;5;241;43m10\u001b[39;49m\u001b[43m}\u001b[49m\n\u001b[0;32m     11\u001b[0m \u001b[43m    \u001b[49m\u001b[43m}\u001b[49m\n\u001b[0;32m     12\u001b[0m \u001b[43m)\u001b[49m\n\u001b[0;32m     14\u001b[0m print_answers(\n\u001b[0;32m     15\u001b[0m     prediction,\n\u001b[0;32m     16\u001b[0m     details\u001b[38;5;241m=\u001b[39m\u001b[38;5;124m\"\u001b[39m\u001b[38;5;124mminimum\u001b[39m\u001b[38;5;124m\"\u001b[39m \u001b[38;5;66;03m## Choose from `minimum`, `medium`, and `all`\u001b[39;00m\n\u001b[0;32m     17\u001b[0m )\n",
      "File \u001b[1;32mc:\\Users\\d103771\\Documents\\GitHub\\SAR3\\.venv-hey\\lib\\site-packages\\haystack\\pipelines\\standard_pipelines.py:393\u001b[0m, in \u001b[0;36mGenerativeQAPipeline.run\u001b[1;34m(self, query, params, debug)\u001b[0m\n\u001b[0;32m    382\u001b[0m \u001b[39mdef\u001b[39;00m \u001b[39mrun\u001b[39m(\u001b[39mself\u001b[39m, query: \u001b[39mstr\u001b[39m, params: Optional[\u001b[39mdict\u001b[39m] \u001b[39m=\u001b[39m \u001b[39mNone\u001b[39;00m, debug: Optional[\u001b[39mbool\u001b[39m] \u001b[39m=\u001b[39m \u001b[39mNone\u001b[39;00m):\n\u001b[0;32m    383\u001b[0m \u001b[39m    \u001b[39m\u001b[39m\"\"\"\u001b[39;00m\n\u001b[0;32m    384\u001b[0m \u001b[39m    :param query: the query string.\u001b[39;00m\n\u001b[0;32m    385\u001b[0m \u001b[39m    :param params: params for the `retriever` and `generator`. For instance,\u001b[39;00m\n\u001b[1;32m   (...)\u001b[0m\n\u001b[0;32m    391\u001b[0m \u001b[39m          by this method under the key \"_debug\"\u001b[39;00m\n\u001b[0;32m    392\u001b[0m \u001b[39m    \"\"\"\u001b[39;00m\n\u001b[1;32m--> 393\u001b[0m     output \u001b[39m=\u001b[39m \u001b[39mself\u001b[39;49m\u001b[39m.\u001b[39;49mpipeline\u001b[39m.\u001b[39;49mrun(query\u001b[39m=\u001b[39;49mquery, params\u001b[39m=\u001b[39;49mparams, debug\u001b[39m=\u001b[39;49mdebug)\n\u001b[0;32m    394\u001b[0m     \u001b[39mreturn\u001b[39;00m output\n",
      "File \u001b[1;32mc:\\Users\\d103771\\Documents\\GitHub\\SAR3\\.venv-hey\\lib\\site-packages\\haystack\\pipelines\\base.py:535\u001b[0m, in \u001b[0;36mPipeline.run\u001b[1;34m(self, query, file_paths, labels, documents, meta, params, debug)\u001b[0m\n\u001b[0;32m    531\u001b[0m \u001b[39mexcept\u001b[39;00m \u001b[39mException\u001b[39;00m \u001b[39mas\u001b[39;00m e:\n\u001b[0;32m    532\u001b[0m     \u001b[39m# The input might be a really large object with thousands of embeddings.\u001b[39;00m\n\u001b[0;32m    533\u001b[0m     \u001b[39m# If you really want to see it, raise the log level.\u001b[39;00m\n\u001b[0;32m    534\u001b[0m     logger\u001b[39m.\u001b[39mdebug(\u001b[39m\"\u001b[39m\u001b[39mException while running node \u001b[39m\u001b[39m'\u001b[39m\u001b[39m%s\u001b[39;00m\u001b[39m'\u001b[39m\u001b[39m with input \u001b[39m\u001b[39m%s\u001b[39;00m\u001b[39m\"\u001b[39m, node_id, node_input)\n\u001b[1;32m--> 535\u001b[0m     \u001b[39mraise\u001b[39;00m \u001b[39mException\u001b[39;00m(\n\u001b[0;32m    536\u001b[0m         \u001b[39mf\u001b[39m\u001b[39m\"\u001b[39m\u001b[39mException while running node \u001b[39m\u001b[39m'\u001b[39m\u001b[39m{\u001b[39;00mnode_id\u001b[39m}\u001b[39;00m\u001b[39m'\u001b[39m\u001b[39m: \u001b[39m\u001b[39m{\u001b[39;00me\u001b[39m}\u001b[39;00m\u001b[39m\\n\u001b[39;00m\u001b[39mEnable debug logging to see the data that was passed when the pipeline failed.\u001b[39m\u001b[39m\"\u001b[39m\n\u001b[0;32m    537\u001b[0m     ) \u001b[39mfrom\u001b[39;00m \u001b[39me\u001b[39;00m\n\u001b[0;32m    538\u001b[0m queue\u001b[39m.\u001b[39mpop(node_id)\n\u001b[0;32m    539\u001b[0m \u001b[39m#\u001b[39;00m\n",
      "\u001b[1;31mException\u001b[0m: Exception while running node 'Generator': \"Seq2SeqGenerator doesn't have input converter registered for efederici/bart-lfqa-it. Provide custom converter for efederici/bart-lfqa-it in Seq2SeqGenerator initialization\"\nEnable debug logging to see the data that was passed when the pipeline failed."
     ]
    }
   ],
   "source": [
    "from haystack.nodes import Seq2SeqGenerator\n",
    "from haystack.pipelines import GenerativeQAPipeline\n",
    "\n",
    "generator = Seq2SeqGenerator(model_name_or_path=\"efederici/bart-lfqa-it\")\n",
    "pipe = GenerativeQAPipeline(generator, retriever)\n",
    "\n",
    "prediction = pipe.run(\n",
    "    query=\"Posso lavorare dalla Francia?\",\n",
    "    params={\n",
    "        \"Retriever\": {\"top_k\": 10}\n",
    "    }\n",
    ")\n",
    "\n",
    "print_answers(\n",
    "    prediction,\n",
    "    details=\"minimum\" ## Choose from `minimum`, `medium`, and `all`\n",
    ")"
   ]
  },
  {
   "cell_type": "code",
   "execution_count": null,
   "metadata": {},
   "outputs": [],
   "source": []
  }
 ],
 "metadata": {
  "kernelspec": {
   "display_name": "Python 3.9.1 ('.venv-hey': venv)",
   "language": "python",
   "name": "python3"
  },
  "language_info": {
   "codemirror_mode": {
    "name": "ipython",
    "version": 3
   },
   "file_extension": ".py",
   "mimetype": "text/x-python",
   "name": "python",
   "nbconvert_exporter": "python",
   "pygments_lexer": "ipython3",
   "version": "3.9.1"
  },
  "orig_nbformat": 4,
  "vscode": {
   "interpreter": {
    "hash": "eefb198c5368edf4e1d515a4b01d5fe34a0ace50fcae11fd04f2cc02eaf4b963"
   }
  }
 },
 "nbformat": 4,
 "nbformat_minor": 2
}
